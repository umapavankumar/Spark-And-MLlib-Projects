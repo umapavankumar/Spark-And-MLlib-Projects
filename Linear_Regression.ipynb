{
  "nbformat": 4,
  "nbformat_minor": 0,
  "metadata": {
    "colab": {
      "name": "Linear_Regression.ipynb",
      "provenance": [],
      "collapsed_sections": [],
      "authorship_tag": "ABX9TyNAqFcp6leC3hhUJ26hi8cz",
      "include_colab_link": true
    },
    "kernelspec": {
      "name": "python3",
      "display_name": "Python 3"
    }
  },
  "cells": [
    {
      "cell_type": "markdown",
      "metadata": {
        "id": "view-in-github",
        "colab_type": "text"
      },
      "source": [
        "<a href=\"https://colab.research.google.com/github/umapavankumar/Spark-And-MLlib-Projects/blob/master/Linear_Regression.ipynb\" target=\"_parent\"><img src=\"https://colab.research.google.com/assets/colab-badge.svg\" alt=\"Open In Colab\"/></a>"
      ]
    },
    {
      "cell_type": "code",
      "metadata": {
        "id": "RXIG4vtCMqjl"
      },
      "source": [
        "import numpy as np\r\n",
        "import pandas as pd\r\n"
      ],
      "execution_count": 1,
      "outputs": []
    },
    {
      "cell_type": "code",
      "metadata": {
        "id": "1R6RvhKPNP9R"
      },
      "source": [
        "# Read the CSV file into a DataFrame: df\r\n",
        "df = pd.read_csv('gapminder.csv')\r\n"
      ],
      "execution_count": 2,
      "outputs": []
    },
    {
      "cell_type": "code",
      "metadata": {
        "id": "KGFbwmtuNWzq"
      },
      "source": [
        "# Create arrays for features and target variable\r\n",
        "y = df['life'].values\r\n",
        "X = df['fertility'].values\r\n"
      ],
      "execution_count": 3,
      "outputs": []
    },
    {
      "cell_type": "code",
      "metadata": {
        "colab": {
          "base_uri": "https://localhost:8080/"
        },
        "id": "QiWDTRJ_NZ5D",
        "outputId": "7017884e-cd15-4366-b392-050f133cd95d"
      },
      "source": [
        "# Print the dimensions of X and y before reshaping\r\n",
        "print(\"Dimensions of y before reshaping: {}\".format(y.shape))\r\n",
        "print(\"Dimensions of X before reshaping: {}\".format(X.shape))\r\n"
      ],
      "execution_count": 4,
      "outputs": [
        {
          "output_type": "stream",
          "text": [
            "Dimensions of y before reshaping: (9210,)\n",
            "Dimensions of X before reshaping: (9210,)\n"
          ],
          "name": "stdout"
        }
      ]
    },
    {
      "cell_type": "code",
      "metadata": {
        "id": "VwdiPTGPNeJY"
      },
      "source": [
        "# sklearn package needs two dimensional array, hence reshape X and y into 2D.\r\n",
        "y = y.reshape(-1, 1)\r\n",
        "X = X.reshape(-1, 1)\r\n"
      ],
      "execution_count": 6,
      "outputs": []
    },
    {
      "cell_type": "code",
      "metadata": {
        "colab": {
          "base_uri": "https://localhost:8080/"
        },
        "id": "HK1Vg4w9NhY_",
        "outputId": "5c1564dc-2a67-430a-c914-97f8303ec2d3"
      },
      "source": [
        "# Print the dimensions of X and y after reshaping\r\n",
        "print(\"Dimensions of y after reshaping: {}\".format(y.shape))\r\n",
        "print(\"Dimensions of X after reshaping: {}\".format(X.shape))\r\n"
      ],
      "execution_count": 7,
      "outputs": [
        {
          "output_type": "stream",
          "text": [
            "Dimensions of y after reshaping: (9210, 1)\n",
            "Dimensions of X after reshaping: (9210, 1)\n"
          ],
          "name": "stdout"
        }
      ]
    },
    {
      "cell_type": "code",
      "metadata": {
        "id": "hMdikjpzNk3N"
      },
      "source": [
        "# Import LinearRegression\r\n",
        "from sklearn.linear_model import LinearRegression\r\n"
      ],
      "execution_count": 8,
      "outputs": []
    },
    {
      "cell_type": "code",
      "metadata": {
        "id": "-aoMmLm2NoG6"
      },
      "source": [
        "# Create the regressor: reg\r\n",
        "reg = LinearRegression()\r\n"
      ],
      "execution_count": 9,
      "outputs": []
    },
    {
      "cell_type": "code",
      "metadata": {
        "colab": {
          "base_uri": "https://localhost:8080/"
        },
        "id": "e5OtezgUNq_M",
        "outputId": "a05f2034-0cf9-4c97-cadc-cb7a410a806e"
      },
      "source": [
        "# Fit the model to the data\r\n",
        "reg.fit(X, y)\r\n"
      ],
      "execution_count": 10,
      "outputs": [
        {
          "output_type": "execute_result",
          "data": {
            "text/plain": [
              "LinearRegression(copy_X=True, fit_intercept=True, n_jobs=None, normalize=False)"
            ]
          },
          "metadata": {
            "tags": []
          },
          "execution_count": 10
        }
      ]
    },
    {
      "cell_type": "code",
      "metadata": {
        "colab": {
          "base_uri": "https://localhost:8080/"
        },
        "id": "Pn0-yg1aNwN9",
        "outputId": "a5d4c0f6-9a93-40b1-a8a6-e88137cfdd90"
      },
      "source": [
        "# Print R^2\r\n",
        "print(\"The score R^2 is: {}\".format(reg.score(X, y)))\r\n"
      ],
      "execution_count": 11,
      "outputs": [
        {
          "output_type": "stream",
          "text": [
            "The score R^2 is: 0.6994714846213568\n"
          ],
          "name": "stdout"
        }
      ]
    },
    {
      "cell_type": "code",
      "metadata": {
        "id": "STCzLVflNw6N"
      },
      "source": [
        "# Create the prediction space\r\n",
        "prediction_space = np.linspace(min(X), max(X)).reshape(-1,1)\r\n"
      ],
      "execution_count": 12,
      "outputs": []
    },
    {
      "cell_type": "code",
      "metadata": {
        "id": "iNZL1mXlN1jo"
      },
      "source": [
        "# Compute predictions over the prediction space: y_pred\r\n",
        "y_pred = reg.predict(prediction_space)\r\n"
      ],
      "execution_count": 13,
      "outputs": []
    },
    {
      "cell_type": "code",
      "metadata": {
        "colab": {
          "base_uri": "https://localhost:8080/",
          "height": 265
        },
        "id": "JZY_LPRKN2j7",
        "outputId": "4d60d323-364a-48b7-c5a5-d2bdae4829e8"
      },
      "source": [
        "# Plot regression line\r\n",
        "import matplotlib.pyplot as plt\r\n",
        "plt.plot(prediction_space, y_pred, color='black', linewidth=3)\r\n",
        "plt.show()\r\n"
      ],
      "execution_count": 14,
      "outputs": [
        {
          "output_type": "display_data",
          "data": {
            "image/png": "[encoded data removed]",
            "text/plain": [
              "<Figure size 432x288 with 1 Axes>"
            ]
          },
          "metadata": {
            "tags": [],
            "needs_background": "light"
          }
        }
      ]
    }
  ]
}